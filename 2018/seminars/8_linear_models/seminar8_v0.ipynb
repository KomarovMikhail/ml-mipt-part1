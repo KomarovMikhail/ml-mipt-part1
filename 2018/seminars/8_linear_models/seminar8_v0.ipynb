{
 "cells": [
  {
   "cell_type": "markdown",
   "metadata": {},
   "source": [
    "<span style=\"font-size: 14pt\">ФИВТ, АПТ, Курс по машинному обучению, Весна 2017, семинар 8 </span>\n",
    "\n",
    "<span style=\"color:blue; font-size: 12pt\">Alexey Romanenko, </span>\n",
    "<span style=\"color:blue; font-size: 12pt; font-family: 'Verdana'\">alexromsput@gmail.com</span>"
   ]
  },
  {
   "cell_type": "markdown",
   "metadata": {},
   "source": [
    "# Linear models (Линейные модели)\n",
    "<h3> Plan </h3>\n",
    "\n",
    "* **Линейная Регрессия ** (20 minutes) \n",
    " - Linear Model for Regression\n",
    " - Regularization: Ridge Regression, LASSO\n",
    " - Решение задачи МНК\n",
    " \n",
    "\n",
    "* **SVD** (30 minutes)\n",
    " - SVD: demo\n",
    " - <span style=\"color:orange; font-size: 12pt\"> SVD picture compression </span> (опционально)\n",
    " - Реализация и исследование RidgeRegression\n",
    "\n",
    "\n",
    "* ** Additional ** (30 minutes)\n",
    " - Use case: Budget optimization\n",
    " - HW3: solution"
   ]
  },
  {
   "cell_type": "code",
   "execution_count": 10,
   "metadata": {},
   "outputs": [],
   "source": [
    "import numpy as np\n",
    "import pandas as pd\n",
    "\n",
    "from sklearn.preprocessing import StandardScaler\n",
    "from sklearn.datasets import make_moons, make_circles, make_classification, load_iris\n",
    "from sklearn.datasets import \n",
    "\n",
    "from matplotlib.colors import ListedColormap\n",
    "import matplotlib.pyplot as plt\n",
    "from numpy import linalg as la\n",
    "\n",
    "%matplotlib inline"
   ]
  },
  {
   "cell_type": "markdown",
   "metadata": {},
   "source": [
    "** Key words:**\n",
    "   * линейная регрессия, гребневая регрессия, лассо Тибширани\n",
    "   * регуляризация\n",
    "   * сингулярное разложение, сингулярные числа, сингулярное разложение"
   ]
  },
  {
   "cell_type": "markdown",
   "metadata": {},
   "source": [
    "<h1 align=\"center\"> Linear Regression </h1>\n",
    "** Вопросы **\n",
    "* Как настриваются веса в LR?\n",
    "* Какие проблемы возникают при обучении LR? С чем связано переобучение LR?\n",
    "* Что такое гребневая регрессия и Лассо Тибширани?"
   ]
  },
  {
   "cell_type": "markdown",
   "metadata": {},
   "source": [
    "## For Regression"
   ]
  },
  {
   "cell_type": "markdown",
   "metadata": {
    "collapsed": true
   },
   "source": [
    "## $$Y = \\mathbf{R},~X\\in \\mathbf{R}^d$$\n",
    "## $$y_{predict}(x) = <w, x> $$ \n",
    "## $$Q(w, X^\\ell) = \\frac{1}{n} \\sum_i^n L(y_i, <w,x_i>) \\rightarrow \\min_w$$"
   ]
  },
  {
   "cell_type": "markdown",
   "metadata": {},
   "source": [
    "### Linear Regression (Equation)\n",
    "\n",
    "## $$ g(x, w) = \\sum_{j}^{d} w_j f_j(x) $$\n",
    "## $$ Q(w) = \\| F w - y \\|^2 $$\n",
    "\n",
    "Normal Equation\n",
    "\n",
    "## $$ w^{*} = (F^{T}F)^{-1}F^{T}y = F^{+}y $$\n",
    "## $$ Q(w^{*}) = \\| P_{F}y - y \\|^2 $$\n",
    "## $$ P_{F} = FF^{+} $$"
   ]
  },
  {
   "cell_type": "markdown",
   "metadata": {},
   "source": [
    "## Регуляризация"
   ]
  },
  {
   "cell_type": "markdown",
   "metadata": {},
   "source": [
    "<img src='https://github.com/ml-mipt/ml-mipt-part1/blob/master/2017/seminars/09_linear_models/496/pic/Regularization.PNG?raw=true'>"
   ]
  },
  {
   "cell_type": "markdown",
   "metadata": {},
   "source": [
    "### Regularization for LR:\n",
    "\n",
    "## $$ Q_{\\tau}(w) = \\| Fw - y\\|^2 + \\tau \\| w \\|^2 $$\n",
    "\n",
    "\n",
    "vs\n",
    "\n",
    "## $$ \\sum_{j=1}^{d} |w_i| \\leq C $$\n"
   ]
  },
  {
   "cell_type": "markdown",
   "metadata": {},
   "source": [
    "See <a href='http://www.machinelearning.ru/wiki/images/6/6d/Voron-ML-1.pdf'> К.В. Воронцов, Методы машинного обучения по прецедентам </a>\n",
    "* глава 5.3 Линейная регрессия"
   ]
  },
  {
   "cell_type": "markdown",
   "metadata": {},
   "source": [
    "# Решение задачи МНК"
   ]
  },
  {
   "cell_type": "code",
   "execution_count": 120,
   "metadata": {},
   "outputs": [],
   "source": [
    "def my_linear_regression(X_train, Y_train):\n",
    "    try:\n",
    "        TODO\n",
    "    except:\n",
    "        print('The matrix X^T*X is not invertible!')\n",
    "        return None\n",
    "    return w"
   ]
  },
  {
   "cell_type": "markdown",
   "metadata": {},
   "source": [
    "### Игрушечный датасет"
   ]
  },
  {
   "cell_type": "code",
   "execution_count": 56,
   "metadata": {},
   "outputs": [],
   "source": [
    "X = np.array([[1,0], [0,3]], dtype=np.double)\n",
    "Y = np.array([1,1], dtype=np.double)"
   ]
  },
  {
   "cell_type": "code",
   "execution_count": 57,
   "metadata": {},
   "outputs": [
    {
     "data": {
      "text/plain": [
       "array([1.        , 0.33333333])"
      ]
     },
     "execution_count": 57,
     "metadata": {},
     "output_type": "execute_result"
    }
   ],
   "source": [
    "my_linear_regression(X, Y)"
   ]
  },
  {
   "cell_type": "markdown",
   "metadata": {},
   "source": [
    "### Реальный датасет"
   ]
  },
  {
   "cell_type": "code",
   "execution_count": 150,
   "metadata": {},
   "outputs": [
    {
     "data": {
      "text/html": [
       "<div>\n",
       "<style scoped>\n",
       "    .dataframe tbody tr th:only-of-type {\n",
       "        vertical-align: middle;\n",
       "    }\n",
       "\n",
       "    .dataframe tbody tr th {\n",
       "        vertical-align: top;\n",
       "    }\n",
       "\n",
       "    .dataframe thead th {\n",
       "        text-align: right;\n",
       "    }\n",
       "</style>\n",
       "<table border=\"1\" class=\"dataframe\">\n",
       "  <thead>\n",
       "    <tr style=\"text-align: right;\">\n",
       "      <th></th>\n",
       "      <th>Longitudinal position</th>\n",
       "      <th>Prismatic coefficient</th>\n",
       "      <th>Length-displacement ratio</th>\n",
       "      <th>Beam-draught ratio</th>\n",
       "      <th>Length-beam ratio</th>\n",
       "      <th>Froude number</th>\n",
       "      <th>Residuary resistance</th>\n",
       "    </tr>\n",
       "  </thead>\n",
       "  <tbody>\n",
       "    <tr>\n",
       "      <th>0</th>\n",
       "      <td>-2.3</td>\n",
       "      <td>0.568</td>\n",
       "      <td>4.78</td>\n",
       "      <td>3.99</td>\n",
       "      <td>3.17</td>\n",
       "      <td>0.150</td>\n",
       "      <td>0.27</td>\n",
       "    </tr>\n",
       "    <tr>\n",
       "      <th>1</th>\n",
       "      <td>-2.3</td>\n",
       "      <td>0.568</td>\n",
       "      <td>4.78</td>\n",
       "      <td>3.99</td>\n",
       "      <td>3.17</td>\n",
       "      <td>0.175</td>\n",
       "      <td>0.47</td>\n",
       "    </tr>\n",
       "    <tr>\n",
       "      <th>2</th>\n",
       "      <td>-2.3</td>\n",
       "      <td>0.568</td>\n",
       "      <td>4.78</td>\n",
       "      <td>3.99</td>\n",
       "      <td>3.17</td>\n",
       "      <td>0.200</td>\n",
       "      <td>0.78</td>\n",
       "    </tr>\n",
       "    <tr>\n",
       "      <th>3</th>\n",
       "      <td>-2.3</td>\n",
       "      <td>0.568</td>\n",
       "      <td>4.78</td>\n",
       "      <td>3.99</td>\n",
       "      <td>3.17</td>\n",
       "      <td>0.225</td>\n",
       "      <td>1.18</td>\n",
       "    </tr>\n",
       "    <tr>\n",
       "      <th>4</th>\n",
       "      <td>-2.3</td>\n",
       "      <td>0.568</td>\n",
       "      <td>4.78</td>\n",
       "      <td>3.99</td>\n",
       "      <td>3.17</td>\n",
       "      <td>0.250</td>\n",
       "      <td>1.82</td>\n",
       "    </tr>\n",
       "  </tbody>\n",
       "</table>\n",
       "</div>"
      ],
      "text/plain": [
       "   Longitudinal position  Prismatic coefficient  Length-displacement ratio  \\\n",
       "0                   -2.3                  0.568                       4.78   \n",
       "1                   -2.3                  0.568                       4.78   \n",
       "2                   -2.3                  0.568                       4.78   \n",
       "3                   -2.3                  0.568                       4.78   \n",
       "4                   -2.3                  0.568                       4.78   \n",
       "\n",
       "   Beam-draught ratio  Length-beam ratio  Froude number  Residuary resistance  \n",
       "0                3.99               3.17          0.150                  0.27  \n",
       "1                3.99               3.17          0.175                  0.47  \n",
       "2                3.99               3.17          0.200                  0.78  \n",
       "3                3.99               3.17          0.225                  1.18  \n",
       "4                3.99               3.17          0.250                  1.82  "
      ]
     },
     "execution_count": 150,
     "metadata": {},
     "output_type": "execute_result"
    }
   ],
   "source": [
    "# https://archive.ics.uci.edu/ml/datasets/Cargo+2000+Freight+Tracking+and+Tracing#`\n",
    "\n",
    "yacht= pd.read_csv('https://archive.ics.uci.edu/ml/machine-learning-databases/00243/yacht_hydrodynamics.data')\n",
    "\n",
    "# Предобработка данных, так как иногда встречаются лишние пробелы:\n",
    "a = [yacht.loc[x].values[0].replace('  ',' ').split() for x in yacht.index]\n",
    "a = [[np.double(y) for y in x ] for x in a]\n",
    "\n",
    "# сохраняем все в DataFrame\n",
    "yacht_df =pd.DataFrame.from_records(a, columns=['Longitudinal position','Prismatic coefficient','Length-displacement ratio','Beam-draught ratio','Length-beam ratio','Froude number','Residuary resistance'])\n",
    "yacht_df.head()"
   ]
  },
  {
   "cell_type": "code",
   "execution_count": 153,
   "metadata": {},
   "outputs": [],
   "source": [
    "X_yacht=yacht_df[yacht_df.columns[:-1]].values\n",
    "Y_yacht=yacht_df['Residuary resistance'].values"
   ]
  },
  {
   "cell_type": "code",
   "execution_count": 167,
   "metadata": {},
   "outputs": [
    {
     "data": {
      "text/plain": [
       "array([  0.19290433, -36.09608563,  -4.34232531,   1.44584328,\n",
       "         3.53192747, 121.97888972])"
      ]
     },
     "execution_count": 167,
     "metadata": {},
     "output_type": "execute_result"
    }
   ],
   "source": [
    "# put here your code\n",
    "my_linear_regression(X_yacht, Y_yacht)"
   ]
  },
  {
   "cell_type": "markdown",
   "metadata": {},
   "source": [
    "-------\n",
    "<h1 align=\"center\"> SVD и решение задач линейной регрессии</h1> "
   ]
  },
  {
   "cell_type": "markdown",
   "metadata": {},
   "source": [
    "# SVD\n",
    "\n",
    "<img src='https://github.com/ml-mipt/ml-mipt-part1/blob/master/2018/seminars/8_linear_models/pic/SVD.png?raw=true'>\n",
    "\n",
    "## $$A = VDU^T$$\n",
    "\n",
    "* $A$ - произвольная матрица $n\\times m$\n",
    "* $V$ - ортогональная матрица $n\\times n$\n",
    "* $D$ - диагональная матрица размером $n\\times m$\n",
    "* $D$ - ортогональная матрица размером $m\\times m$\n",
    "\n",
    "** About SVD **:\n",
    "* http://web.mit.edu/be.400/www/SVD/Singular_Value_Decomposition.htm\n",
    "* http://andrew.gibiansky.com/blog/mathematics/cool-linear-algebra-singular-value-decomposition/    \n",
    "\n",
    "demo http://setosa.io/ev/principal-component-analysis/"
   ]
  },
  {
   "cell_type": "code",
   "execution_count": 115,
   "metadata": {},
   "outputs": [],
   "source": [
    "# Example 1: https://pm429015.wordpress.com/2013/05/21/singular-value-decomposition-svd/\n",
    "\n",
    "# load data points\n",
    "iris =load_iris()\n",
    "\n",
    "#normalize and remove mean\n",
    "data = iris.data"
   ]
  },
  {
   "cell_type": "code",
   "execution_count": 111,
   "metadata": {},
   "outputs": [],
   "source": [
    "def svd(data, S=2):\n",
    "     \n",
    "    samples,features = data.shape\n",
    " \n",
    "    #calculate SVD\n",
    "    U, s, V = la.svd(data)\n",
    "    Sig = np.mat(np.eye(S)*s[:S])\n",
    "    #tak out columns you don't need\n",
    "    newdata = U[:,:S]\n",
    " \n",
    "    fig = plt.figure(figsize =(15,5))\n",
    "    ax = fig.add_subplot(1,1,1)\n",
    "    colors = ['blue','red','black']\n",
    "    for i in range(samples):\n",
    "        ax.scatter(newdata[i,0],newdata[i,1], color= colors[int(data[i,-1])])\n",
    "    plt.xlabel('SVD1')\n",
    "    plt.ylabel('SVD2')"
   ]
  },
  {
   "cell_type": "code",
   "execution_count": 112,
   "metadata": {},
   "outputs": [
    {
     "data": {
      "image/png": "[encoded data removed]",
      "text/plain": [
       "<matplotlib.figure.Figure at 0x22ebfa41f28>"
      ]
     },
     "metadata": {},
     "output_type": "display_data"
    }
   ],
   "source": [
    "svd(data,2)"
   ]
  },
  {
   "cell_type": "markdown",
   "metadata": {},
   "source": [
    "# <span style=\"color:orange; font-size: 12pt\"> SVD picture compression > (опционально)</span>"
   ]
  },
  {
   "cell_type": "markdown",
   "metadata": {},
   "source": [
    "Picture decomposition: http://timbaumann.info/svd-image-compression-demo/"
   ]
  },
  {
   "cell_type": "markdown",
   "metadata": {},
   "source": [
    "** Задание** : построейте SVD декомпозицию и сожмите картинку\n",
    "    <img src='https://www.canandcam.com/wp-content/uploads/2017/05/foto.jpg'>"
   ]
  },
  {
   "cell_type": "code",
   "execution_count": 113,
   "metadata": {},
   "outputs": [],
   "source": [
    "# put your code below"
   ]
  },
  {
   "cell_type": "markdown",
   "metadata": {},
   "source": [
    "# Реализация и исследование SVD\n",
    "\n",
    "** Вопросы**\n",
    "* Как с помощью SVD разложения матрицы регрессии записывается решение задачи МНК и гребневой регрессии?\n",
    "\n",
    "## $$ w= UD^{-1} V^T y$$\n",
    "## $$ w^{ridge}= U (D^2+\\tau I_n)^{-1} D V^T y$$"
   ]
  },
  {
   "cell_type": "markdown",
   "metadata": {},
   "source": [
    "** Задание **: реализуйте гребневую регрессию так, чтобы можно было эффективно подбирать коэффициент регуляризации"
   ]
  },
  {
   "cell_type": "code",
   "execution_count": 100,
   "metadata": {},
   "outputs": [],
   "source": [
    "def my_ridge_regression(X_train, Y_train, tau=1.0, tau_array=None):\n",
    "     \n",
    "    n, m = X_train.shape\n",
    "    error = np.array(np.zeros(tau_array.shape))\n",
    "      \n",
    "    if tau_array is None: # если надо рассчитать SVD для конкретного значения tau\n",
    "         #calculate SVD\n",
    "        V, d, U = la.svd(X_train)\n",
    "        \n",
    "        D = %из вектора d сделать матрицу D размером n x m% \n",
    "\n",
    "        w_ridge = %TODO%\n",
    "        \n",
    "    else: # если надо рассчитать SVD для нескольки значений tau\n",
    "        x_tr, x_te, y_tr, y_te = train_test_split(X_train, Y_train, test_size = 0.3)\n",
    "    \n",
    "        V, d, U = la.svd(x_tr)\n",
    "        D = np.zeros(x_tr.shape, dtype=complex)\n",
    "        D = %из вектора d сделать матрицу D размером n x m% \n",
    "\n",
    "        w_ridge = %TODO%\n",
    "        error[t] = ((y_te-np.dot(x_te,w_ridge))**2).sum()\n",
    "    \n",
    "    return w_ridge, error"
   ]
  },
  {
   "cell_type": "code",
   "execution_count": 119,
   "metadata": {},
   "outputs": [],
   "source": [
    "# Расчёт error для набора tau_array\n",
    "%time ans, score = my_ridge_regression(X_yacht, Y_yacht, tau_array=np.linspace(%TODO%))"
   ]
  },
  {
   "cell_type": "code",
   "execution_count": null,
   "metadata": {},
   "outputs": [],
   "source": [
    "# нарисуем график зависимости ошибки от tau\n",
    "plt.plot(score)"
   ]
  },
  {
   "cell_type": "code",
   "execution_count": null,
   "metadata": {},
   "outputs": [],
   "source": [
    "# Если делать всякий раз SVD, то полуится почти в 10 раз медленнее!\n",
    "%time ans = [my_ridge_regression(X_yacht, Y_yacht, tau=x) for x in range(100)]"
   ]
  },
  {
   "cell_type": "markdown",
   "metadata": {},
   "source": [
    "** Вопрос: ** Как можно быстро понять, требуется ли регуляризация для данной матрицы?\n",
    "    * Ответ: число обусловенности матрицы должно быть порядка $10^2$"
   ]
  },
  {
   "cell_type": "code",
   "execution_count": 165,
   "metadata": {},
   "outputs": [
    {
     "data": {
      "text/plain": [
       "64984.12185808055"
      ]
     },
     "execution_count": 165,
     "metadata": {},
     "output_type": "execute_result"
    }
   ],
   "source": [
    "lambdas = la.eigvals(np.dot(X_yacht.transpose(), X_yacht))\n",
    "print(la.cond(np.dot(X_yacht.transpose(), X_yacht))) # число обусловленности: Lambda_max/Lambda_min\n",
    "print(max(lambdas)/min(lambdas))"
   ]
  },
  {
   "cell_type": "markdown",
   "metadata": {},
   "source": [
    "<h1 align=\"center\"> Additional </h1>"
   ]
  },
  {
   "cell_type": "markdown",
   "metadata": {
    "collapsed": true
   },
   "source": [
    "## Разбор прикладной задачи: прогнозирование трудозатрат склада\n",
    "<img src=\"http://www.abr.com/wp-content/uploads/2014/04/Inventory-Management_4.7.15.jpg\" width=100%>\n",
    "\n",
    "К вам обращается крупная Retail-компания с целью решить задачу предсказания трудозатрат на Распределительном центре.\n",
    "\n",
    "* ** Описание задачи **\n",
    "Через распределительный центр ежедневного проходит $10^5-10^8$ штук товаров, хранится при этом в 10 раз больше товаров. Все товары делятся на $n=5$ групп (например, Яблоки, Бананы, Кокосы, Апельсины и Баклажан), и в компании есть планы по нагрузке на РЦ по каждой группе: т.е. инфо о количестве товаров, которые придут на РЦ, и которые будут отгружены в РЦ.\n",
    "\n",
    "Операции (бизнес-процессы), которые проходит каждая штука, очень сложны и разнообразны, у компании нет возможности отслеживать движение каждой штуки на РЦ. \n",
    "\n",
    "\n",
    "\n",
    "Логистическая дирекция просит вас помочь:\n",
    " 1) научить взвешивать трудоёмкость обработки каждой из групп товаров;\n",
    " 2) постройте калькулятор трудозатрат на склад: т.е. программу, которая могла бы пересчитывать нагрузку в штуках в количество человек, которое нужно нанять, чтобы обработать эту нагрузку.\n",
    "\n",
    "* ** Бизнес-ограничения **\n",
    "    1. Логистическая дирекция постоянно оптимизирует бизнес-процессы, так что производительность опытных сотрудников склада монотонно неубывает.\n",
    "    2. На складе происходит постоянная ротация персонала, доля новичков может меняться из месяца в месяц.\n",
    "        * Так, например, В ноябре и декабре на складе наступает пиковая нагрузка, которая в 3 раза превышает среднегодовую! В связи с этим в ноябре на складе больше половины новых сотрудкников - новички.\n",
    "        * Упрощение: будем считать, что отношение производительности новичка к производительности опытного сотрудника = 0.65 (константа).\n",
    "    3. Есть планы на год вперёд (при планировании бюджета - 1 раз в год), и есть планы еженедельные о нагрузке на следующую неделю:\n",
    "     * Какой вы думаете должна быть допустимая ошибка вашего прогноза в обоих случаях?\n",
    "    4. При прогнозировании ежендельном: \n",
    "        * если НЕДОпредсказать нагрузку, то компания может потерять деньги, из-за того, что не весь товар будет отправлен на продажу, \n",
    "        * если предсказать трудозатрат больше, чем будет, то комания переплатит (оплата за полную смену, а работы всего не полсмены). \n",
    "    5. У вас есть следующие данные: 1) нагрузка по каждой из групп товаров за каждый день за 2,5 года назад 2) количество людей в смене (в разбивке новичок/опытный) 3) дата начала и дата окончания смены.    \n",
    "   \n",
    "* ** Как измерить результат **\n",
    "    1. Можно измерить какая была ошибка при экспертном планировании (при еженедльном ~20%, при годовом ~10%), и какая стала при внедрении калькулятора.\n",
    "    2. Понимание того, какой вклад даёт каждая из групп товаров, позволяет более тонко управлять (развивать) процессы на складе (т.е. вы сделали процесс более прозрачным).\n",
    "    3. Возможность пересчитывать нагрузки в одну единицу (например 1 Яблоко = 3 Банана) приводит к более чёткому взаимодействию в другими подразделениями. Например, можно говорить о максимльной пропускной способности в Яблоках(т.е. вы упростили процесс коммуникации).\n",
    "    \n",
    "* **Вопросы:**\n",
    "    1. Как поставить задачу машинного обучения? Что есть целевая переменная?\n",
    "    2. Какие признаки следует добавить в обучающую выборку? Сколько их будет?\n",
    "    3. Какое взять решающее правило? \n",
    "    4. Как настроить параметры? Не забудьте про постоянное изменение производительности на РЦ\n",
    "    5. Как часто стоит пересчитывать параметры?"
   ]
  },
  {
   "cell_type": "markdown",
   "metadata": {},
   "source": [
    "# HW3: solution"
   ]
  },
  {
   "cell_type": "markdown",
   "metadata": {},
   "source": [
    "<h1 align=\"center\">Заключение</h1>  "
   ]
  },
  {
   "cell_type": "markdown",
   "metadata": {
    "collapsed": true
   },
   "source": [
    "** Linear Regression **\n",
    "* Достоинства\n",
    "    - простое аналитическое решение\n",
    "    - простая вероятностная интерпертация\n",
    "    - RidgeRegression и Lasso - простые методы по устранению проблемы мультиколлинеарности\n",
    "* Недостатки:\n",
    "    - только линейная зависимость\n",
    "\n",
    "\n",
    "** Обратная связь ** \n",
    "  * оцените <a href=\"https://goo.gl/forms/kYZuyAQLuwo8szce2\"> семинар </a>\n",
    "  * оставьте <a href=\"https://goo.gl/forms/zeZiu1fSgrpPGp6T2\"> отзыв </a> о лекции"
   ]
  }
 ],
 "metadata": {
  "anaconda-cloud": {},
  "kernelspec": {
   "display_name": "Python 3",
   "language": "python",
   "name": "python3"
  },
  "language_info": {
   "codemirror_mode": {
    "name": "ipython",
    "version": 3
   },
   "file_extension": ".py",
   "mimetype": "text/x-python",
   "name": "python",
   "nbconvert_exporter": "python",
   "pygments_lexer": "ipython3",
   "version": "3.5.5"
  }
 },
 "nbformat": 4,
 "nbformat_minor": 1
}
